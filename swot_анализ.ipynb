{
  "nbformat": 4,
  "nbformat_minor": 0,
  "metadata": {
    "colab": {
      "name": "swot анализ",
      "provenance": [],
      "include_colab_link": true
    },
    "kernelspec": {
      "name": "python3",
      "display_name": "Python 3"
    }
  },
  "cells": [
    {
      "cell_type": "markdown",
      "metadata": {
        "id": "view-in-github",
        "colab_type": "text"
      },
      "source": [
        "<a href=\"https://colab.research.google.com/github/AdelinaRavepovaHSE/codehse/blob/main/swot_%D0%B0%D0%BD%D0%B0%D0%BB%D0%B8%D0%B7.ipynb\" target=\"_parent\"><img src=\"https://colab.research.google.com/assets/colab-badge.svg\" alt=\"Open In Colab\"/></a>"
      ]
    },
    {
      "cell_type": "code",
      "metadata": {
        "id": "37FLObbOtdia",
        "colab": {
          "base_uri": "https://localhost:8080/"
        },
        "outputId": "ad102444-e011-4a69-eb11-34c3dc8bf113"
      },
      "source": [
        "print('Группа: 20БИ-3')\n",
        "print('ФИО: Равепова Аделина Равилевна')\n",
        "!ln -fs /usr/share/zoneinfo/Europe/Moscow /etc/localtime\n",
        "!date"
      ],
      "execution_count": null,
      "outputs": [
        {
          "output_type": "stream",
          "text": [
            "Группа: 20БИ-3\n",
            "ФИО: Равепова Аделина Равилевна\n",
            "Tue Mar 16 00:13:22 MSK 2021\n"
          ],
          "name": "stdout"
        }
      ]
    },
    {
      "cell_type": "code",
      "metadata": {
        "id": "kaCHhn6uvJNu",
        "colab": {
          "base_uri": "https://localhost:8080/"
        },
        "outputId": "70c7f12b-d4e2-4c1b-ec74-01b68f20af6c"
      },
      "source": [
        "from google.colab import drive\n",
        "drive.mount('/content/drive/')\n",
        "import os\n",
        "print(os.getcwd())\n",
        "print(os.listdir('./'))\n",
        "print(os.listdir('/content/drive'))\n",
        "print(os.listdir('/content/drive/MyDrive/Colab Notebooks/swot '))"
      ],
      "execution_count": null,
      "outputs": [
        {
          "output_type": "stream",
          "text": [
            "Drive already mounted at /content/drive/; to attempt to forcibly remount, call drive.mount(\"/content/drive/\", force_remount=True).\n",
            "/content\n",
            "['.config', 'adc.json', 'drive', 'sample_data']\n",
            "['MyDrive', '.shortcut-targets-by-id', '.file-revisions-by-id', '.Trash']\n",
            "['results', 'swot анализ', 'Новая таблица.gsheet', 'strenghts.gsheet', 'weaknesses.gsheet', 'opportunities.gsheet', 'threats.gsheet']\n"
          ],
          "name": "stdout"
        }
      ]
    },
    {
      "cell_type": "code",
      "metadata": {
        "colab": {
          "base_uri": "https://localhost:8080/"
        },
        "id": "YemAbHedw3CU",
        "outputId": "10482064-a6bf-4414-f2ad-c5c870e6b079"
      },
      "source": [
        "import os\n",
        "import time\n",
        "from google.colab import auth\n",
        "auth.authenticate_user()\n",
        "!pip install --upgrade gspread\n",
        "import gspread\n",
        "from oauth2client.client import GoogleCredentials\n",
        "print('\\nРабота с таблицей')\n",
        "%ll -lAF /content/drive/MyDrive/\"Colab Notebooks\"/swot/\n",
        "gs = gspread.authorize(GoogleCredentials.get_application_default())\n",
        "os.stat('/content/drive/MyDrive/Colab Notebooks/swot /Новая таблица.gsheet')\n",
        "table = gs.open_by_key('1ieBI7Dpjb-go8TSF8lRlAKE93i28Lu-mJmnYodlP-PY')\n",
        "print(dir(table))\n",
        "worksheet = table.worksheet('list1')\n",
        "rows = worksheet.get_all_values()\n",
        "print(rows)\n",
        "strength = [0] * 6\n",
        "s=0\n",
        "opportunities = [0] * 6\n",
        "o = 0\n",
        "weakness = [0] * 6\n",
        "w = 0\n",
        "threats = [0] * 6\n",
        "t = 0\n",
        "flag = 'strength'\n",
        "for i in rows:\n",
        "  if i[0] == 'strength':\n",
        "    flag = 'strength'\n",
        "  if i[0] == 'weakness':\n",
        "    flag = 'weakness'\n",
        "  if i[0] == 'opportunities':\n",
        "    flag = 'opportunities'\n",
        "  if i[0] == 'threats':\n",
        "    flag = 'threats'\n",
        "  if flag == 'strength' and i[4] != '' and i[4] != 'power':\n",
        "    strength[s] = i[4]\n",
        "    s = s + 1\n",
        "  if flag == 'opportunities' and i[4] != '' and i[4] != 'power':\n",
        "    opportunities[o] = i[4]\n",
        "    o = o + 1\n",
        "  if flag == 'weakness' and i[4] != '' and i[4] != 'power':\n",
        "    weakness[w] = i[4]\n",
        "    w = w + 1\n",
        "  if flag == 'threats' and i[4] != '' and i[4] != 'power':\n",
        "    threats[t] = i[4]\n",
        "    t = t + 1\n",
        "print(strength)\n",
        "print(opportunities)\n",
        "print(weakness)\n",
        "print(threats)\n",
        "streng = 0\n",
        "opport = 0\n",
        "weak = 0\n",
        "threat = 0\n",
        "for i in strength:\n",
        "  streng = streng + float(i)\n",
        "for i in opportunities:\n",
        "  opport = opport + float(i)\n",
        "for i in weakness:\n",
        "  weak = weak + float(i)\n",
        "for i in threats:\n",
        "  threat = threat + float(i)\n",
        "worksheet.update('A43', 'strength ' + str(s))\n",
        "worksheet.update('B43', 'weakness ' + str(w))\n",
        "worksheet.update('C43', 'opportunities ' + str(o))\n",
        "worksheet.update('D43', 'threats ' + str(t))\n",
        "worksheet.update('A44', 'sum power ' + str(s + o - w - t))\n",
        "prob = (s + o) / (s + o + w + t)\n",
        "worksheet.update('B44', 'Probability of good result ' + str(prob))"
      ],
      "execution_count": null,
      "outputs": [
        {
          "output_type": "stream",
          "text": [
            "Requirement already up-to-date: gspread in /usr/local/lib/python3.7/dist-packages (3.7.0)\n",
            "Requirement already satisfied, skipping upgrade: google-auth-oauthlib>=0.4.1 in /usr/local/lib/python3.7/dist-packages (from gspread) (0.4.3)\n",
            "Requirement already satisfied, skipping upgrade: google-auth>=1.12.0 in /usr/local/lib/python3.7/dist-packages (from gspread) (1.27.1)\n",
            "Requirement already satisfied, skipping upgrade: requests-oauthlib>=0.7.0 in /usr/local/lib/python3.7/dist-packages (from google-auth-oauthlib>=0.4.1->gspread) (1.3.0)\n",
            "Requirement already satisfied, skipping upgrade: pyasn1-modules>=0.2.1 in /usr/local/lib/python3.7/dist-packages (from google-auth>=1.12.0->gspread) (0.2.8)\n",
            "Requirement already satisfied, skipping upgrade: rsa<5,>=3.1.4; python_version >= \"3.6\" in /usr/local/lib/python3.7/dist-packages (from google-auth>=1.12.0->gspread) (4.7.2)\n",
            "Requirement already satisfied, skipping upgrade: cachetools<5.0,>=2.0.0 in /usr/local/lib/python3.7/dist-packages (from google-auth>=1.12.0->gspread) (4.2.1)\n",
            "Requirement already satisfied, skipping upgrade: setuptools>=40.3.0 in /usr/local/lib/python3.7/dist-packages (from google-auth>=1.12.0->gspread) (54.0.0)\n",
            "Requirement already satisfied, skipping upgrade: six>=1.9.0 in /usr/local/lib/python3.7/dist-packages (from google-auth>=1.12.0->gspread) (1.15.0)\n",
            "Requirement already satisfied, skipping upgrade: requests>=2.0.0 in /usr/local/lib/python3.7/dist-packages (from requests-oauthlib>=0.7.0->google-auth-oauthlib>=0.4.1->gspread) (2.23.0)\n",
            "Requirement already satisfied, skipping upgrade: oauthlib>=3.0.0 in /usr/local/lib/python3.7/dist-packages (from requests-oauthlib>=0.7.0->google-auth-oauthlib>=0.4.1->gspread) (3.1.0)\n",
            "Requirement already satisfied, skipping upgrade: pyasn1<0.5.0,>=0.4.6 in /usr/local/lib/python3.7/dist-packages (from pyasn1-modules>=0.2.1->google-auth>=1.12.0->gspread) (0.4.8)\n",
            "Requirement already satisfied, skipping upgrade: idna<3,>=2.5 in /usr/local/lib/python3.7/dist-packages (from requests>=2.0.0->requests-oauthlib>=0.7.0->google-auth-oauthlib>=0.4.1->gspread) (2.10)\n",
            "Requirement already satisfied, skipping upgrade: urllib3!=1.25.0,!=1.25.1,<1.26,>=1.21.1 in /usr/local/lib/python3.7/dist-packages (from requests>=2.0.0->requests-oauthlib>=0.7.0->google-auth-oauthlib>=0.4.1->gspread) (1.24.3)\n",
            "Requirement already satisfied, skipping upgrade: chardet<4,>=3.0.2 in /usr/local/lib/python3.7/dist-packages (from requests>=2.0.0->requests-oauthlib>=0.7.0->google-auth-oauthlib>=0.4.1->gspread) (3.0.4)\n",
            "Requirement already satisfied, skipping upgrade: certifi>=2017.4.17 in /usr/local/lib/python3.7/dist-packages (from requests>=2.0.0->requests-oauthlib>=0.7.0->google-auth-oauthlib>=0.4.1->gspread) (2020.12.5)\n",
            "\n",
            "Работа с таблицей\n",
            "ls: cannot access '/content/drive/MyDrive/Colab Notebooks/swot/': No such file or directory\n",
            "['__class__', '__delattr__', '__dict__', '__dir__', '__doc__', '__eq__', '__format__', '__ge__', '__getattribute__', '__gt__', '__hash__', '__init__', '__init_subclass__', '__iter__', '__le__', '__lt__', '__module__', '__ne__', '__new__', '__reduce__', '__reduce_ex__', '__repr__', '__setattr__', '__sizeof__', '__str__', '__subclasshook__', '__weakref__', '_properties', '_spreadsheets_get', '_spreadsheets_sheets_copy_to', 'add_worksheet', 'batch_update', 'client', 'del_worksheet', 'duplicate_sheet', 'fetch_sheet_metadata', 'get_worksheet', 'id', 'list_permissions', 'remove_permissions', 'reorder_worksheets', 'share', 'sheet1', 'title', 'updated', 'url', 'values_append', 'values_batch_get', 'values_batch_update', 'values_clear', 'values_get', 'values_update', 'worksheet', 'worksheets']\n",
            "[['', '', 'Семейное кафе', '', ''], ['strength', '', '', '', ''], ['name', 'actions', 'importance', 'probability', 'power'], ['низкие цены', 'много скидок для привлечения клиентов и их сохранения', '10', '1', '10'], ['наличие программы лояльности клиентов', 'система накопления бонусов и дальнейшая оплата заказов ими с целью сохранения клиентов', '8', '0.9', '7.2'], ['расположено в центре города', 'удобно добираться до заведения и находить его', '7', '1', '7'], ['наличие игровой комнаты внутри кафе', 'дети могут поиграть в заведении', '8', '0.8', '6.4'], ['возможность проведения праздников в кафе', 'наличие программы проведения свадеб/корпоративов и др.', '6', '0.9', '5.4'], ['мастер-классы для детей по выходным', 'интерактивные игры с детьми, повод посетить кафе семьям в выходные', '8', '0.7', '5.6'], ['weakness', '', '', '', ''], ['name', 'actions', 'importance', 'probability', 'power'], ['высокая загруженность кафе по выходным, не справляется персонал', 'нанять новых работников', '8', '0.7', '5.6'], ['семейное кафе неактуально в рабочие дни', 'предлагать уникальную вечернюю программу по будням, чтобы семьи посещали кафе вечером', '7', '0.6', '4.2'], ['высокая текучесть кадров из-за низкой зарплаты', 'повысить зарплату и премии сотрудникам', '9', '1', '9'], ['неналаженная система поставки всех ингридиентов', 'найти несколько проверенных поставщиков продуктов', '9', '0.8', '7.2'], ['opportunities', '', '', '', ''], ['name', 'actions', 'importance', 'probability', 'power'], ['расширение сети кафе', 'открывать кафе во многих городах России', '9', '0.8', '7.2'], ['система скидок для малоимущих/многодетных семей', 'обеспечить возможность посещения кафе для малоимущих/многодетных семей с помощью повышенных скидок', '7', '0.9', '6.3'], ['увеличение рекламы в СМИ и в сети Интернет', 'создание профиля кафе и ведение в Instagram, заключение контрактов с рекламными агентствами', '10', '0.7', '7'], ['возможность доставки блюд', 'сотрудничество с крупными сервисами доставки еды (Delivery Club, Яндекс.Еда)', '6', '0.5', '3'], ['threats', '', '', '', ''], ['name', 'actions', 'importance', 'probability', 'power'], ['нестабильная эпидемиологическая ситуация в стране (коронавирус)', 'адаптация к условиям коронавируса и выполнение всех требований по обеспечению безопасности посещения', '10', '0.1', '1'], ['высокая конкуренция', 'занимать лидирующие позиции по всем критериям среди конкурентов', '8', '0.7', '5.6'], ['форс-мажор (пожар и тд)', 'соблюдение пожарной безопасности, своевременная проерка обоудования', '10', '0.2', '2'], ['снижение квалификации сотрудников', 'обучение и повышение квалификации сотрудников', '6', '0.6', '3.6'], ['', '', '', '', ''], ['', '', '', '', ''], ['', '', '', '', ''], ['', '', '', '', ''], ['', '', '', '', ''], ['', '', '', '', ''], ['', '', '', '', ''], ['', '', '', '', ''], ['', '', '', '', ''], ['', '', '', '', ''], ['', '', '', '', ''], ['', '', '', '', ''], ['', '', '', '', ''], ['', '', '', '', ''], ['', '', '', '', ''], ['strength 6', 'weakness 4', 'opportunities 4', 'threats 4', ''], ['sum power 2', 'Probability of good result 0.5555555555555556', '', '', '']]\n",
            "['10', '7.2', '7', '6.4', '5.4', '5.6']\n",
            "['7.2', '6.3', '7', '3', 0, 0]\n",
            "['5.6', '4.2', '9', '7.2', 0, 0]\n",
            "['1', '5.6', '2', '3.6', 0, 0]\n"
          ],
          "name": "stdout"
        },
        {
          "output_type": "execute_result",
          "data": {
            "text/plain": [
              "{'spreadsheetId': '1ieBI7Dpjb-go8TSF8lRlAKE93i28Lu-mJmnYodlP-PY',\n",
              " 'updatedCells': 1,\n",
              " 'updatedColumns': 1,\n",
              " 'updatedRange': 'list1!B44',\n",
              " 'updatedRows': 1}"
            ]
          },
          "metadata": {
            "tags": []
          },
          "execution_count": 17
        }
      ]
    },
    {
      "cell_type": "code",
      "metadata": {
        "colab": {
          "base_uri": "https://localhost:8080/",
          "height": 1000
        },
        "id": "OXVVaSk0zxaD",
        "outputId": "810ade15-0dff-4f60-d38f-30540d176815"
      },
      "source": [
        "import os\n",
        "import time\n",
        "from google.colab import auth\n",
        "auth.authenticate_user()\n",
        "!pip install --upgrade gspread\n",
        "import gspread\n",
        "from oauth2client.client import GoogleCredentials\n",
        "print('\\nРаботаем с таблицей')\n",
        "%ll -lAF /content/drive/MyDrive/\"Colab Notebooks\"/swot/\n",
        "gs = gspread.authorize(GoogleCredentials.get_application_default())\n",
        "os.stat('/content/drive/MyDrive/Colab Notebooks/swot /Новая таблица.gsheet')\n",
        "table = gs.open_by_key('1ieBI7Dpjb-go8TSF8lRlAKE93i28Lu-mJmnYodlP-PY')\n",
        "print(dir(table))\n",
        "worksheet = table.worksheet('list1')\n",
        "rows = worksheet.get_all_values()\n",
        "print(rows)\n",
        "strength = [0] * 6\n",
        "s = 0\n",
        "opportunities = [0] * 6\n",
        "o = 0\n",
        "weakness = [0] * 6\n",
        "w = 0\n",
        "threats = [0] * 6\n",
        "t = 0\n",
        "flag = 'strength'\n",
        "for i in rows:\n",
        "  if i[0] == 'strength':\n",
        "    flag = 'strength'\n",
        "  if i[0] == 'weakness':\n",
        "    flag = 'weakness'\n",
        "  if i[0] == 'opportunities':\n",
        "    flag = 'opportunities'\n",
        "  if i[0] == 'threats':\n",
        "    flag = 'threats'\n",
        "  if flag == 'strength' and i[4] != '' and i[4] != 'power':\n",
        "    strength[s] = i[4]\n",
        "    s = s + 1\n",
        "  if flag == 'opportunities' and i[4] != '' and i[4] != 'power':\n",
        "    opportunities[o] = i[4]\n",
        "    o = o + 1\n",
        "  if flag == 'weakness' and i[4] != '' and i[4] != 'power':\n",
        "    weakness[w] = i[4]\n",
        "    w = w + 1\n",
        "  if flag == 'threats' and i[4] != '' and i[4] != 'power':\n",
        "    threats[t] = i[4]\n",
        "    t = t + 1\n",
        "print(strength)\n",
        "print(opportunities)\n",
        "print(weakness)\n",
        "print(threats)\n",
        "streng = 0\n",
        "opport = 0\n",
        "weak = 0\n",
        "threat = 0\n",
        "for i in strength:\n",
        "  streng = streng + float(i)\n",
        "for i in opportunities:\n",
        "  opport = opport + float(i)\n",
        "for i in weakness:\n",
        "  weak = weak + float(i)\n",
        "for i in threats:\n",
        "  threat = threat + float(i)\n",
        "  import matplotlib.pyplot as plt\n",
        "x=list()\n",
        "x_float=list()\n",
        "title=list()\n",
        "y_float=list()\n",
        "    \n",
        "title = [ \"strengths\", \"weaknesses\", \"opportunities\", \"threats\", \"result\"]\n",
        "x=title\n",
        "x_float = [1, 2, 3, 4, 5]\n",
        "result = streng - 1*weak + opport - 1*threat\n",
        "y = [streng, weak, opport, threat]\n",
        "y_float = [streng, -1*weak, opport, -1*threat,  result]\n",
        "print(x_float,title,y_float)\n",
        "print('списки формированы-->\\n')\n",
        "x_pos=list()\n",
        "for i in range(x_float.__len__()):\n",
        "    x_pos.append(i)\n",
        "print('<!--разбивка по абсцисс и значения ординат\\n', len( x_float), x_pos, y_float, ' -->\\n')\n",
        "\n",
        "fig=plt.figure(figsize=(8,6), dpi=72)\n",
        "plt.bar(x_pos, y_float, width=0.75, align='edge', alpha=0.4)\n",
        "plt.xticks(x_pos,  x_float, fontsize=14)\n",
        "plt.xlabel('Обозначения1', fontsize=14)\n",
        "plt.ylabel('Мощность воздействия', fontsize=14)\n",
        "plt.title('SWOT', fontsize=14)\n",
        "plt.grid(True, color='r', linestyle='-', linewidth=2)\n",
        "#plt.draw()\n",
        "plt.show()\n",
        "fig.savefig(\"/content/drive/MyDrive/Colab Notebooks/swot /results/swotcafe.png\")\n",
        "print('<div class=\"d-flex flex-row \">')\n",
        "print('<div class=\"card m-1\" style=\"width: 28rem;\">',\n",
        "      '<img  src=\"/content/drive/MyDrive/Colab Notebooks/swot /results/swotcafe.png\" class=\"card-img-top\" alt=\"...\">',\n",
        "      '<div class=\"card-body\">')\n",
        "    \n",
        "for i in range(title.__len__()):\n",
        "    print(i+1, \" - \", title[i], \"; \")\n",
        "    i += 1\n",
        "print('</div>', '</div>')\n",
        "print('<div>')"
      ],
      "execution_count": null,
      "outputs": [
        {
          "output_type": "stream",
          "text": [
            "Requirement already up-to-date: gspread in /usr/local/lib/python3.7/dist-packages (3.7.0)\n",
            "Requirement already satisfied, skipping upgrade: google-auth-oauthlib>=0.4.1 in /usr/local/lib/python3.7/dist-packages (from gspread) (0.4.3)\n",
            "Requirement already satisfied, skipping upgrade: google-auth>=1.12.0 in /usr/local/lib/python3.7/dist-packages (from gspread) (1.27.1)\n",
            "Requirement already satisfied, skipping upgrade: requests-oauthlib>=0.7.0 in /usr/local/lib/python3.7/dist-packages (from google-auth-oauthlib>=0.4.1->gspread) (1.3.0)\n",
            "Requirement already satisfied, skipping upgrade: pyasn1-modules>=0.2.1 in /usr/local/lib/python3.7/dist-packages (from google-auth>=1.12.0->gspread) (0.2.8)\n",
            "Requirement already satisfied, skipping upgrade: cachetools<5.0,>=2.0.0 in /usr/local/lib/python3.7/dist-packages (from google-auth>=1.12.0->gspread) (4.2.1)\n",
            "Requirement already satisfied, skipping upgrade: six>=1.9.0 in /usr/local/lib/python3.7/dist-packages (from google-auth>=1.12.0->gspread) (1.15.0)\n",
            "Requirement already satisfied, skipping upgrade: rsa<5,>=3.1.4; python_version >= \"3.6\" in /usr/local/lib/python3.7/dist-packages (from google-auth>=1.12.0->gspread) (4.7.2)\n",
            "Requirement already satisfied, skipping upgrade: setuptools>=40.3.0 in /usr/local/lib/python3.7/dist-packages (from google-auth>=1.12.0->gspread) (54.0.0)\n",
            "Requirement already satisfied, skipping upgrade: oauthlib>=3.0.0 in /usr/local/lib/python3.7/dist-packages (from requests-oauthlib>=0.7.0->google-auth-oauthlib>=0.4.1->gspread) (3.1.0)\n",
            "Requirement already satisfied, skipping upgrade: requests>=2.0.0 in /usr/local/lib/python3.7/dist-packages (from requests-oauthlib>=0.7.0->google-auth-oauthlib>=0.4.1->gspread) (2.23.0)\n",
            "Requirement already satisfied, skipping upgrade: pyasn1<0.5.0,>=0.4.6 in /usr/local/lib/python3.7/dist-packages (from pyasn1-modules>=0.2.1->google-auth>=1.12.0->gspread) (0.4.8)\n",
            "Requirement already satisfied, skipping upgrade: idna<3,>=2.5 in /usr/local/lib/python3.7/dist-packages (from requests>=2.0.0->requests-oauthlib>=0.7.0->google-auth-oauthlib>=0.4.1->gspread) (2.10)\n",
            "Requirement already satisfied, skipping upgrade: chardet<4,>=3.0.2 in /usr/local/lib/python3.7/dist-packages (from requests>=2.0.0->requests-oauthlib>=0.7.0->google-auth-oauthlib>=0.4.1->gspread) (3.0.4)\n",
            "Requirement already satisfied, skipping upgrade: urllib3!=1.25.0,!=1.25.1,<1.26,>=1.21.1 in /usr/local/lib/python3.7/dist-packages (from requests>=2.0.0->requests-oauthlib>=0.7.0->google-auth-oauthlib>=0.4.1->gspread) (1.24.3)\n",
            "Requirement already satisfied, skipping upgrade: certifi>=2017.4.17 in /usr/local/lib/python3.7/dist-packages (from requests>=2.0.0->requests-oauthlib>=0.7.0->google-auth-oauthlib>=0.4.1->gspread) (2020.12.5)\n",
            "\n",
            "Работаем с таблицей\n",
            "ls: cannot access '/content/drive/MyDrive/Colab Notebooks/swot/': No such file or directory\n",
            "['__class__', '__delattr__', '__dict__', '__dir__', '__doc__', '__eq__', '__format__', '__ge__', '__getattribute__', '__gt__', '__hash__', '__init__', '__init_subclass__', '__iter__', '__le__', '__lt__', '__module__', '__ne__', '__new__', '__reduce__', '__reduce_ex__', '__repr__', '__setattr__', '__sizeof__', '__str__', '__subclasshook__', '__weakref__', '_properties', '_spreadsheets_get', '_spreadsheets_sheets_copy_to', 'add_worksheet', 'batch_update', 'client', 'del_worksheet', 'duplicate_sheet', 'fetch_sheet_metadata', 'get_worksheet', 'id', 'list_permissions', 'remove_permissions', 'reorder_worksheets', 'share', 'sheet1', 'title', 'updated', 'url', 'values_append', 'values_batch_get', 'values_batch_update', 'values_clear', 'values_get', 'values_update', 'worksheet', 'worksheets']\n",
            "[['', '', 'Семейное кафе', '', ''], ['strength', '', '', '', ''], ['name', 'actions', 'importance', 'probability', 'power'], ['низкие цены', 'много скидок для привлечения клиентов и их сохранения', '10', '1', '10'], ['наличие программы лояльности клиентов', 'система накопления бонусов и дальнейшая оплата заказов ими с целью сохранения клиентов', '8', '0.9', '7.2'], ['расположено в центре города', 'удобно добираться до заведения и находить его', '7', '1', '7'], ['наличие игровой комнаты внутри кафе', 'дети могут поиграть в заведении', '8', '0.8', '6.4'], ['возможность проведения праздников в кафе', 'наличие программы проведения свадеб/корпоративов и др.', '6', '0.9', '5.4'], ['мастер-классы для детей по выходным', 'интерактивные игры с детьми, повод посетить кафе семьям в выходные', '8', '0.7', '5.6'], ['weakness', '', '', '', ''], ['name', 'actions', 'importance', 'probability', 'power'], ['высокая загруженность кафе по выходным, не справляется персонал', 'нанять новых работников', '8', '0.7', '5.6'], ['семейное кафе неактуально в рабочие дни', 'предлагать уникальную вечернюю программу по будням, чтобы семьи посещали кафе вечером', '7', '0.6', '4.2'], ['высокая текучесть кадров из-за низкой зарплаты', 'повысить зарплату и премии сотрудникам', '9', '1', '9'], ['неналаженная система поставки всех ингридиентов', 'найти несколько проверенных поставщиков продуктов', '9', '0.8', '7.2'], ['opportunities', '', '', '', ''], ['name', 'actions', 'importance', 'probability', 'power'], ['расширение сети кафе', 'открывать кафе во многих городах России', '9', '0.8', '7.2'], ['система скидок для малоимущих/многодетных семей', 'обеспечить возможность посещения кафе для малоимущих/многодетных семей с помощью повышенных скидок', '7', '0.9', '6.3'], ['увеличение рекламы в СМИ и в сети Интернет', 'создание профиля кафе и ведение в Instagram, заключение контрактов с рекламными агентствами', '10', '0.7', '7'], ['возможность доставки блюд', 'сотрудничество с крупными сервисами доставки еды (Delivery Club, Яндекс.Еда)', '6', '0.5', '3'], ['threats', '', '', '', ''], ['name', 'actions', 'importance', 'probability', 'power'], ['нестабильная эпидемиологическая ситуация в стране (коронавирус)', 'адаптация к условиям коронавируса и выполнение всех требований по обеспечению безопасности посещения', '10', '0.1', '1'], ['высокая конкуренция', 'занимать лидирующие позиции по всем критериям среди конкурентов', '8', '0.7', '5.6'], ['форс-мажор (пожар и тд)', 'соблюдение пожарной безопасности, своевременная проерка обоудования', '10', '0.2', '2'], ['снижение квалификации сотрудников', 'обучение и повышение квалификации сотрудников', '6', '0.6', '3.6'], ['', '', '', '', ''], ['', '', '', '', ''], ['', '', '', '', ''], ['', '', '', '', ''], ['', '', '', '', ''], ['', '', '', '', ''], ['', '', '', '', ''], ['', '', '', '', ''], ['', '', '', '', ''], ['', '', '', '', ''], ['', '', '', '', ''], ['', '', '', '', ''], ['', '', '', '', ''], ['', '', '', '', ''], ['', '', '', '', ''], ['strength 6', 'weakness 4', 'opportunities 4', 'threats 4', ''], ['sum power 2', 'Probability of good result 0.5555555555555556', '', '', '']]\n",
            "['10', '7.2', '7', '6.4', '5.4', '5.6']\n",
            "['7.2', '6.3', '7', '3', 0, 0]\n",
            "['5.6', '4.2', '9', '7.2', 0, 0]\n",
            "['1', '5.6', '2', '3.6', 0, 0]\n",
            "[1, 2, 3, 4, 5] ['strengths', 'weaknesses', 'opportunities', 'threats', 'result'] [41.6, -26.0, 23.5, -12.2, 26.900000000000002]\n",
            "списки формированы-->\n",
            "\n",
            "<!--разбивка по абсцисс и значения ординат\n",
            " 5 [0, 1, 2, 3, 4] [41.6, -26.0, 23.5, -12.2, 26.900000000000002]  -->\n",
            "\n"
          ],
          "name": "stdout"
        },
        {
          "output_type": "display_data",
          "data": {
            "image/png": "[encoded data removed]",
            "text/plain": [
              "<Figure size 576x432 with 1 Axes>"
            ]
          },
          "metadata": {
            "tags": [],
            "needs_background": "light"
          }
        },
        {
          "output_type": "stream",
          "text": [
            "<div class=\"d-flex flex-row \">\n",
            "<div class=\"card m-1\" style=\"width: 28rem;\"> <img  src=\"/content/drive/MyDrive/Colab Notebooks/swot /results/swotcafe.png\" class=\"card-img-top\" alt=\"...\"> <div class=\"card-body\">\n",
            "1  -  strengths ; \n",
            "2  -  weaknesses ; \n",
            "3  -  opportunities ; \n",
            "4  -  threats ; \n",
            "5  -  result ; \n",
            "</div> </div>\n",
            "<div>\n"
          ],
          "name": "stdout"
        }
      ]
    },
    {
      "cell_type": "code",
      "metadata": {
        "colab": {
          "base_uri": "https://localhost:8080/",
          "height": 929
        },
        "id": "3rTu0W7Es85x",
        "outputId": "e247ec85-3e92-4de6-fdf6-8d3291dda149"
      },
      "source": [
        "import os\n",
        "import time\n",
        "from google.colab import auth\n",
        "auth.authenticate_user()\n",
        "!pip install --upgrade gspread\n",
        "import gspread\n",
        "from oauth2client.client import GoogleCredentials\n",
        "print('\\nРаботаем с таблицей')\n",
        "%ll -lAF /content/drive/MyDrive/Colab Notebooks/swot \n",
        "gs = gspread.authorize(GoogleCredentials.get_application_default())\n",
        "os.stat('/content/drive/MyDrive/Colab Notebooks/swot /Новая таблица.gsheet')\n",
        "table = gs.open_by_key('1ieBI7Dpjb-go8TSF8lRlAKE93i28Lu-mJmnYodlP-PY')\n",
        "print(dir(table))\n",
        "worksheet = table.worksheet('list2')\n",
        "rows = worksheet.get_all_values()\n",
        "name = list()\n",
        "actions = list()\n",
        "importance = list()\n",
        "probability = list()\n",
        "power = list()\n",
        "power_sh = list()\n",
        "power_raw = list()\n",
        "i=0\n",
        "for row in rows:\n",
        "  if(i>0):\n",
        "    print (i, row)\n",
        "    name.append(row[0])\n",
        "    importance.append(int(row[2]))\n",
        "    probability.append(float(row[3]))\n",
        "    power.append(int(row[2])*float(row[3]))\n",
        "    power_raw = list()\n",
        "    power_raw.append(int(row[2])*float(row[3]))\n",
        "    power_sh.append(power_raw)\n",
        "  i+=1\n",
        "print(power_sh)\n",
        "worksheet.update('E2:E10', power_sh)\n",
        "result = sum(power)\n",
        "worksheet.update('G3','Суммарная power:')\n",
        "worksheet.update('H3',result)\n",
        "print('Суммарная Power strengths составляет:', result)\n",
        "#Диаграмма strengths\n",
        "import matplotlib\n",
        "import matplotlib.pyplot as plt\n",
        "import numpy as np\n",
        "#лист line через цикл/для подсчёта кол-ва пуктов=>cтолбцов диаграммы\n",
        "i=0\n",
        "line= list()\n",
        "cols=worksheet.col_values(1)\n",
        "for col in cols:\n",
        "  if (i>0):\n",
        "    line.append(i)\n",
        "  i+=1\n",
        "\n",
        "powers = power\n",
        "x = np.arange(len(line))  # the label locations\n",
        "width = 0.6  # the width of the bars\n",
        "fig, ax = plt.subplots()\n",
        "rects1 = ax.bar(x - width/2, powers, width)\n",
        "a=worksheet.col_values(1)\n",
        "ax.set_ylabel('Мощность воздействия')\n",
        "ax.set_title('Strengths')\n",
        "ax.set_xlabel('Обозначения')\n",
        "ax.set_xticks(x)\n",
        "ax.set_xticklabels(line)\n",
        "fig.tight_layout()\n",
        "plt.show()\n",
        "k=0\n",
        "#вывод пунктов из name в цикле(подпись диаграммы)\n",
        "for col in cols:\n",
        "  if(k>0):\n",
        "    print (k,'- ', col)\n",
        "  k+=1\n",
        "!date"
      ],
      "execution_count": null,
      "outputs": [
        {
          "output_type": "stream",
          "text": [
            "Requirement already up-to-date: gspread in /usr/local/lib/python3.7/dist-packages (3.7.0)\n",
            "Requirement already satisfied, skipping upgrade: google-auth-oauthlib>=0.4.1 in /usr/local/lib/python3.7/dist-packages (from gspread) (0.4.3)\n",
            "Requirement already satisfied, skipping upgrade: google-auth>=1.12.0 in /usr/local/lib/python3.7/dist-packages (from gspread) (1.27.1)\n",
            "Requirement already satisfied, skipping upgrade: requests-oauthlib>=0.7.0 in /usr/local/lib/python3.7/dist-packages (from google-auth-oauthlib>=0.4.1->gspread) (1.3.0)\n",
            "Requirement already satisfied, skipping upgrade: setuptools>=40.3.0 in /usr/local/lib/python3.7/dist-packages (from google-auth>=1.12.0->gspread) (54.0.0)\n",
            "Requirement already satisfied, skipping upgrade: pyasn1-modules>=0.2.1 in /usr/local/lib/python3.7/dist-packages (from google-auth>=1.12.0->gspread) (0.2.8)\n",
            "Requirement already satisfied, skipping upgrade: cachetools<5.0,>=2.0.0 in /usr/local/lib/python3.7/dist-packages (from google-auth>=1.12.0->gspread) (4.2.1)\n",
            "Requirement already satisfied, skipping upgrade: rsa<5,>=3.1.4; python_version >= \"3.6\" in /usr/local/lib/python3.7/dist-packages (from google-auth>=1.12.0->gspread) (4.7.2)\n",
            "Requirement already satisfied, skipping upgrade: six>=1.9.0 in /usr/local/lib/python3.7/dist-packages (from google-auth>=1.12.0->gspread) (1.15.0)\n",
            "Requirement already satisfied, skipping upgrade: requests>=2.0.0 in /usr/local/lib/python3.7/dist-packages (from requests-oauthlib>=0.7.0->google-auth-oauthlib>=0.4.1->gspread) (2.23.0)\n",
            "Requirement already satisfied, skipping upgrade: oauthlib>=3.0.0 in /usr/local/lib/python3.7/dist-packages (from requests-oauthlib>=0.7.0->google-auth-oauthlib>=0.4.1->gspread) (3.1.0)\n",
            "Requirement already satisfied, skipping upgrade: pyasn1<0.5.0,>=0.4.6 in /usr/local/lib/python3.7/dist-packages (from pyasn1-modules>=0.2.1->google-auth>=1.12.0->gspread) (0.4.8)\n",
            "Requirement already satisfied, skipping upgrade: certifi>=2017.4.17 in /usr/local/lib/python3.7/dist-packages (from requests>=2.0.0->requests-oauthlib>=0.7.0->google-auth-oauthlib>=0.4.1->gspread) (2020.12.5)\n",
            "Requirement already satisfied, skipping upgrade: idna<3,>=2.5 in /usr/local/lib/python3.7/dist-packages (from requests>=2.0.0->requests-oauthlib>=0.7.0->google-auth-oauthlib>=0.4.1->gspread) (2.10)\n",
            "Requirement already satisfied, skipping upgrade: urllib3!=1.25.0,!=1.25.1,<1.26,>=1.21.1 in /usr/local/lib/python3.7/dist-packages (from requests>=2.0.0->requests-oauthlib>=0.7.0->google-auth-oauthlib>=0.4.1->gspread) (1.24.3)\n",
            "Requirement already satisfied, skipping upgrade: chardet<4,>=3.0.2 in /usr/local/lib/python3.7/dist-packages (from requests>=2.0.0->requests-oauthlib>=0.7.0->google-auth-oauthlib>=0.4.1->gspread) (3.0.4)\n",
            "\n",
            "Работаем с таблицей\n",
            "ls: cannot access '/content/drive/MyDrive/Colab': No such file or directory\n",
            "ls: cannot access 'Notebooks/swot': No such file or directory\n",
            "['__class__', '__delattr__', '__dict__', '__dir__', '__doc__', '__eq__', '__format__', '__ge__', '__getattribute__', '__gt__', '__hash__', '__init__', '__init_subclass__', '__iter__', '__le__', '__lt__', '__module__', '__ne__', '__new__', '__reduce__', '__reduce_ex__', '__repr__', '__setattr__', '__sizeof__', '__str__', '__subclasshook__', '__weakref__', '_properties', '_spreadsheets_get', '_spreadsheets_sheets_copy_to', 'add_worksheet', 'batch_update', 'client', 'del_worksheet', 'duplicate_sheet', 'fetch_sheet_metadata', 'get_worksheet', 'id', 'list_permissions', 'remove_permissions', 'reorder_worksheets', 'share', 'sheet1', 'title', 'updated', 'url', 'values_append', 'values_batch_get', 'values_batch_update', 'values_clear', 'values_get', 'values_update', 'worksheet', 'worksheets']\n",
            "1 ['низкие цены', 'много скидок для привлечения клиентов и их сохранения', '10', '1', '10', '', '', '']\n",
            "2 ['наличие программы лояльности клиентов', 'система накопления бонусов и дальнейшая оплата заказов ими с целью сохранения клиентов', '8', '0.9', '7.2', '', 'power:', '41.6']\n",
            "3 ['расположено в центре города', 'удобно добираться до заведения и находить его', '7', '1', '7', '', '', '']\n",
            "4 ['наличие игровой комнаты внутри кафе', 'дети могут поиграть в заведении', '8', '0.8', '6.4', '', '', '']\n",
            "5 ['возможность проведения праздников в кафе', 'наличие программы проведения свадеб/корпоративов и др.', '6', '0.9', '5.4', '', '', '']\n",
            "6 ['мастер-классы для детей по выходным', 'интерактивные игры с детьми, повод посетить кафе семьям в выходные', '8', '0.7', '5.6', '', '', '']\n",
            "[[10.0], [7.2], [7.0], [6.4], [5.4], [5.6]]\n",
            "Суммарная Power strengths составляет: 41.6\n"
          ],
          "name": "stdout"
        },
        {
          "output_type": "display_data",
          "data": {
            "image/png": "[encoded data removed]",
            "text/plain": [
              "<Figure size 432x288 with 1 Axes>"
            ]
          },
          "metadata": {
            "tags": [],
            "needs_background": "light"
          }
        },
        {
          "output_type": "stream",
          "text": [
            "1 -  низкие цены\n",
            "2 -  наличие программы лояльности клиентов\n",
            "3 -  расположено в центре города\n",
            "4 -  наличие игровой комнаты внутри кафе\n",
            "5 -  возможность проведения праздников в кафе\n",
            "6 -  мастер-классы для детей по выходным\n",
            "Mon Mar 15 21:05:37 UTC 2021\n"
          ],
          "name": "stdout"
        }
      ]
    },
    {
      "cell_type": "code",
      "metadata": {
        "colab": {
          "base_uri": "https://localhost:8080/",
          "height": 861
        },
        "id": "SNBLXkN2tto1",
        "outputId": "6de7350b-45e0-4dd4-fe12-a013ba31b1d2"
      },
      "source": [
        "import os\n",
        "import time\n",
        "from google.colab import auth\n",
        "auth.authenticate_user()\n",
        "!pip install --upgrade gspread\n",
        "import gspread\n",
        "from oauth2client.client import GoogleCredentials\n",
        "print('\\nРаботаем с таблицей')\n",
        "%ll -lAF /content/drive/MyDrive/Colab Notebooks/swot \n",
        "gs = gspread.authorize(GoogleCredentials.get_application_default())\n",
        "os.stat('/content/drive/MyDrive/Colab Notebooks/swot /Новая таблица.gsheet')\n",
        "table = gs.open_by_key('1ieBI7Dpjb-go8TSF8lRlAKE93i28Lu-mJmnYodlP-PY')\n",
        "print(dir(table))\n",
        "worksheet = table.worksheet('list3')\n",
        "rows = worksheet.get_all_values()\n",
        "name = list()\n",
        "actions = list()\n",
        "importance = list()\n",
        "probability = list()\n",
        "power = list()\n",
        "power_sh = list()\n",
        "power_raw = list()\n",
        "i=0\n",
        "for row in rows:\n",
        "  if(i>0):\n",
        "    print (i, row)\n",
        "    name.append(row[0])\n",
        "    importance.append(int(row[2]))\n",
        "    probability.append(float(row[3]))\n",
        "    power.append(int(row[2])*float(row[3]))\n",
        "    power_raw = list()\n",
        "    power_raw.append(int(row[2])*float(row[3]))\n",
        "    power_sh.append(power_raw)\n",
        "  i+=1\n",
        "print(power_sh)\n",
        "worksheet.update('E2:E10', power_sh)\n",
        "result = sum(power)\n",
        "worksheet.update('G3','Суммарная power:')\n",
        "worksheet.update('H3',result)\n",
        "print('Суммарная Power weaknesses составляет:', result)\n",
        "#Диаграмма strengths\n",
        "import matplotlib\n",
        "import matplotlib.pyplot as plt\n",
        "import numpy as np\n",
        "#лист line через цикл/для подсчёта кол-ва пуктов=>cтолбцов диаграммы\n",
        "i=0\n",
        "line= list()\n",
        "cols=worksheet.col_values(1)\n",
        "for col in cols:\n",
        "  if (i>0):\n",
        "    line.append(i)\n",
        "  i+=1\n",
        "\n",
        "powers = power\n",
        "x = np.arange(len(line))  # the label locations\n",
        "width = 0.6  # the width of the bars\n",
        "fig, ax = plt.subplots()\n",
        "rects1 = ax.bar(x - width/2, powers, width)\n",
        "a=worksheet.col_values(1)\n",
        "ax.set_ylabel('Мощность воздействия')\n",
        "ax.set_title('Weaknesses')\n",
        "ax.set_xlabel('Обозначения')\n",
        "ax.set_xticks(x)\n",
        "ax.set_xticklabels(line)\n",
        "fig.tight_layout()\n",
        "plt.show()\n",
        "k=0\n",
        "#вывод пунктов из name в цикле(подпись диаграммы)\n",
        "for col in cols:\n",
        "  if(k>0):\n",
        "    print (k,'- ', col)\n",
        "  k+=1\n",
        "!date"
      ],
      "execution_count": null,
      "outputs": [
        {
          "output_type": "stream",
          "text": [
            "Requirement already up-to-date: gspread in /usr/local/lib/python3.7/dist-packages (3.7.0)\n",
            "Requirement already satisfied, skipping upgrade: google-auth-oauthlib>=0.4.1 in /usr/local/lib/python3.7/dist-packages (from gspread) (0.4.3)\n",
            "Requirement already satisfied, skipping upgrade: google-auth>=1.12.0 in /usr/local/lib/python3.7/dist-packages (from gspread) (1.27.1)\n",
            "Requirement already satisfied, skipping upgrade: requests-oauthlib>=0.7.0 in /usr/local/lib/python3.7/dist-packages (from google-auth-oauthlib>=0.4.1->gspread) (1.3.0)\n",
            "Requirement already satisfied, skipping upgrade: setuptools>=40.3.0 in /usr/local/lib/python3.7/dist-packages (from google-auth>=1.12.0->gspread) (54.0.0)\n",
            "Requirement already satisfied, skipping upgrade: six>=1.9.0 in /usr/local/lib/python3.7/dist-packages (from google-auth>=1.12.0->gspread) (1.15.0)\n",
            "Requirement already satisfied, skipping upgrade: pyasn1-modules>=0.2.1 in /usr/local/lib/python3.7/dist-packages (from google-auth>=1.12.0->gspread) (0.2.8)\n",
            "Requirement already satisfied, skipping upgrade: cachetools<5.0,>=2.0.0 in /usr/local/lib/python3.7/dist-packages (from google-auth>=1.12.0->gspread) (4.2.1)\n",
            "Requirement already satisfied, skipping upgrade: rsa<5,>=3.1.4; python_version >= \"3.6\" in /usr/local/lib/python3.7/dist-packages (from google-auth>=1.12.0->gspread) (4.7.2)\n",
            "Requirement already satisfied, skipping upgrade: requests>=2.0.0 in /usr/local/lib/python3.7/dist-packages (from requests-oauthlib>=0.7.0->google-auth-oauthlib>=0.4.1->gspread) (2.23.0)\n",
            "Requirement already satisfied, skipping upgrade: oauthlib>=3.0.0 in /usr/local/lib/python3.7/dist-packages (from requests-oauthlib>=0.7.0->google-auth-oauthlib>=0.4.1->gspread) (3.1.0)\n",
            "Requirement already satisfied, skipping upgrade: pyasn1<0.5.0,>=0.4.6 in /usr/local/lib/python3.7/dist-packages (from pyasn1-modules>=0.2.1->google-auth>=1.12.0->gspread) (0.4.8)\n",
            "Requirement already satisfied, skipping upgrade: idna<3,>=2.5 in /usr/local/lib/python3.7/dist-packages (from requests>=2.0.0->requests-oauthlib>=0.7.0->google-auth-oauthlib>=0.4.1->gspread) (2.10)\n",
            "Requirement already satisfied, skipping upgrade: chardet<4,>=3.0.2 in /usr/local/lib/python3.7/dist-packages (from requests>=2.0.0->requests-oauthlib>=0.7.0->google-auth-oauthlib>=0.4.1->gspread) (3.0.4)\n",
            "Requirement already satisfied, skipping upgrade: certifi>=2017.4.17 in /usr/local/lib/python3.7/dist-packages (from requests>=2.0.0->requests-oauthlib>=0.7.0->google-auth-oauthlib>=0.4.1->gspread) (2020.12.5)\n",
            "Requirement already satisfied, skipping upgrade: urllib3!=1.25.0,!=1.25.1,<1.26,>=1.21.1 in /usr/local/lib/python3.7/dist-packages (from requests>=2.0.0->requests-oauthlib>=0.7.0->google-auth-oauthlib>=0.4.1->gspread) (1.24.3)\n",
            "\n",
            "Работаем с таблицей\n",
            "ls: cannot access '/content/drive/MyDrive/Colab': No such file or directory\n",
            "ls: cannot access 'Notebooks/swot': No such file or directory\n",
            "['__class__', '__delattr__', '__dict__', '__dir__', '__doc__', '__eq__', '__format__', '__ge__', '__getattribute__', '__gt__', '__hash__', '__init__', '__init_subclass__', '__iter__', '__le__', '__lt__', '__module__', '__ne__', '__new__', '__reduce__', '__reduce_ex__', '__repr__', '__setattr__', '__sizeof__', '__str__', '__subclasshook__', '__weakref__', '_properties', '_spreadsheets_get', '_spreadsheets_sheets_copy_to', 'add_worksheet', 'batch_update', 'client', 'del_worksheet', 'duplicate_sheet', 'fetch_sheet_metadata', 'get_worksheet', 'id', 'list_permissions', 'remove_permissions', 'reorder_worksheets', 'share', 'sheet1', 'title', 'updated', 'url', 'values_append', 'values_batch_get', 'values_batch_update', 'values_clear', 'values_get', 'values_update', 'worksheet', 'worksheets']\n",
            "1 ['высокая загруженность кафе по выходным, не справляется персонал', 'нанять новых работников', '8', '0.7', '5.6', '', '', '']\n",
            "2 ['семейное кафе неактуально в рабочие дни', 'предлагать уникальную вечернюю программу по будням, чтобы семьи посещали кафе вечером', '7', '0.6', '4.2', '', 'Суммарная power:', '26']\n",
            "3 ['высокая текучесть кадров из-за низкой зарплаты', 'повысить зарплату и премии сотрудникам', '9', '1', '9', '', '', '']\n",
            "4 ['неналаженная система поставки всех ингридиентов', 'найти несколько проверенных поставщиков продуктов', '9', '0.8', '7.2', '', '', '']\n",
            "[[5.6], [4.2], [9.0], [7.2]]\n",
            "Суммарная Power weaknesses составляет: 26.0\n"
          ],
          "name": "stdout"
        },
        {
          "output_type": "display_data",
          "data": {
            "image/png": "[encoded data removed]",
            "text/plain": [
              "<Figure size 432x288 with 1 Axes>"
            ]
          },
          "metadata": {
            "tags": [],
            "needs_background": "light"
          }
        },
        {
          "output_type": "stream",
          "text": [
            "1 -  высокая загруженность кафе по выходным, не справляется персонал\n",
            "2 -  семейное кафе неактуально в рабочие дни\n",
            "3 -  высокая текучесть кадров из-за низкой зарплаты\n",
            "4 -  неналаженная система поставки всех ингридиентов\n",
            "Mon Mar 15 21:11:47 UTC 2021\n"
          ],
          "name": "stdout"
        }
      ]
    },
    {
      "cell_type": "code",
      "metadata": {
        "colab": {
          "base_uri": "https://localhost:8080/",
          "height": 861
        },
        "id": "kbxHDYCcuCgi",
        "outputId": "fa71205c-7840-4bd3-c7ca-8c45f07c75d2"
      },
      "source": [
        "import os\n",
        "import time\n",
        "from google.colab import auth\n",
        "auth.authenticate_user()\n",
        "!pip install --upgrade gspread\n",
        "import gspread\n",
        "from oauth2client.client import GoogleCredentials\n",
        "print('\\nРаботаем с таблицей')\n",
        "%ll -lAF /content/drive/MyDrive/Colab Notebooks/swot \n",
        "gs = gspread.authorize(GoogleCredentials.get_application_default())\n",
        "os.stat('/content/drive/MyDrive/Colab Notebooks/swot /Новая таблица.gsheet')\n",
        "table = gs.open_by_key('1ieBI7Dpjb-go8TSF8lRlAKE93i28Lu-mJmnYodlP-PY')\n",
        "print(dir(table))\n",
        "worksheet = table.worksheet('list4')\n",
        "rows = worksheet.get_all_values()\n",
        "name = list()\n",
        "actions = list()\n",
        "importance = list()\n",
        "probability = list()\n",
        "power = list()\n",
        "power_sh = list()\n",
        "power_raw = list()\n",
        "i=0\n",
        "for row in rows:\n",
        "  if(i>0):\n",
        "    print (i, row)\n",
        "    name.append(row[0])\n",
        "    importance.append(int(row[2]))\n",
        "    probability.append(float(row[3]))\n",
        "    power.append(int(row[2])*float(row[3]))\n",
        "    power_raw = list()\n",
        "    power_raw.append(int(row[2])*float(row[3]))\n",
        "    power_sh.append(power_raw)\n",
        "  i+=1\n",
        "print(power_sh)\n",
        "worksheet.update('E2:E10', power_sh)\n",
        "result = sum(power)\n",
        "worksheet.update('G3','Суммарная power:')\n",
        "worksheet.update('H3',result)\n",
        "print('Суммарная Power opportunities составляет:', result)\n",
        "#Диаграмма strengths\n",
        "import matplotlib\n",
        "import matplotlib.pyplot as plt\n",
        "import numpy as np\n",
        "#лист line через цикл/для подсчёта кол-ва пуктов=>cтолбцов диаграммы\n",
        "i=0\n",
        "line= list()\n",
        "cols=worksheet.col_values(1)\n",
        "for col in cols:\n",
        "  if (i>0):\n",
        "    line.append(i)\n",
        "  i+=1\n",
        "\n",
        "powers = power\n",
        "x = np.arange(len(line))  # the label locations\n",
        "width = 0.6  # the width of the bars\n",
        "fig, ax = plt.subplots()\n",
        "rects1 = ax.bar(x - width/2, powers, width)\n",
        "a=worksheet.col_values(1)\n",
        "ax.set_ylabel('Мощность воздействия')\n",
        "ax.set_title('Opportunities')\n",
        "ax.set_xlabel('Обозначения')\n",
        "ax.set_xticks(x)\n",
        "ax.set_xticklabels(line)\n",
        "fig.tight_layout()\n",
        "plt.show()\n",
        "k=0\n",
        "#вывод пунктов из name в цикле(подпись диаграммы)\n",
        "for col in cols:\n",
        "  if(k>0):\n",
        "    print (k,'- ', col)\n",
        "  k+=1\n",
        "!date"
      ],
      "execution_count": null,
      "outputs": [
        {
          "output_type": "stream",
          "text": [
            "Requirement already up-to-date: gspread in /usr/local/lib/python3.7/dist-packages (3.7.0)\n",
            "Requirement already satisfied, skipping upgrade: google-auth-oauthlib>=0.4.1 in /usr/local/lib/python3.7/dist-packages (from gspread) (0.4.3)\n",
            "Requirement already satisfied, skipping upgrade: google-auth>=1.12.0 in /usr/local/lib/python3.7/dist-packages (from gspread) (1.27.1)\n",
            "Requirement already satisfied, skipping upgrade: requests-oauthlib>=0.7.0 in /usr/local/lib/python3.7/dist-packages (from google-auth-oauthlib>=0.4.1->gspread) (1.3.0)\n",
            "Requirement already satisfied, skipping upgrade: cachetools<5.0,>=2.0.0 in /usr/local/lib/python3.7/dist-packages (from google-auth>=1.12.0->gspread) (4.2.1)\n",
            "Requirement already satisfied, skipping upgrade: six>=1.9.0 in /usr/local/lib/python3.7/dist-packages (from google-auth>=1.12.0->gspread) (1.15.0)\n",
            "Requirement already satisfied, skipping upgrade: pyasn1-modules>=0.2.1 in /usr/local/lib/python3.7/dist-packages (from google-auth>=1.12.0->gspread) (0.2.8)\n",
            "Requirement already satisfied, skipping upgrade: rsa<5,>=3.1.4; python_version >= \"3.6\" in /usr/local/lib/python3.7/dist-packages (from google-auth>=1.12.0->gspread) (4.7.2)\n",
            "Requirement already satisfied, skipping upgrade: setuptools>=40.3.0 in /usr/local/lib/python3.7/dist-packages (from google-auth>=1.12.0->gspread) (54.0.0)\n",
            "Requirement already satisfied, skipping upgrade: oauthlib>=3.0.0 in /usr/local/lib/python3.7/dist-packages (from requests-oauthlib>=0.7.0->google-auth-oauthlib>=0.4.1->gspread) (3.1.0)\n",
            "Requirement already satisfied, skipping upgrade: requests>=2.0.0 in /usr/local/lib/python3.7/dist-packages (from requests-oauthlib>=0.7.0->google-auth-oauthlib>=0.4.1->gspread) (2.23.0)\n",
            "Requirement already satisfied, skipping upgrade: pyasn1<0.5.0,>=0.4.6 in /usr/local/lib/python3.7/dist-packages (from pyasn1-modules>=0.2.1->google-auth>=1.12.0->gspread) (0.4.8)\n",
            "Requirement already satisfied, skipping upgrade: urllib3!=1.25.0,!=1.25.1,<1.26,>=1.21.1 in /usr/local/lib/python3.7/dist-packages (from requests>=2.0.0->requests-oauthlib>=0.7.0->google-auth-oauthlib>=0.4.1->gspread) (1.24.3)\n",
            "Requirement already satisfied, skipping upgrade: idna<3,>=2.5 in /usr/local/lib/python3.7/dist-packages (from requests>=2.0.0->requests-oauthlib>=0.7.0->google-auth-oauthlib>=0.4.1->gspread) (2.10)\n",
            "Requirement already satisfied, skipping upgrade: certifi>=2017.4.17 in /usr/local/lib/python3.7/dist-packages (from requests>=2.0.0->requests-oauthlib>=0.7.0->google-auth-oauthlib>=0.4.1->gspread) (2020.12.5)\n",
            "Requirement already satisfied, skipping upgrade: chardet<4,>=3.0.2 in /usr/local/lib/python3.7/dist-packages (from requests>=2.0.0->requests-oauthlib>=0.7.0->google-auth-oauthlib>=0.4.1->gspread) (3.0.4)\n",
            "\n",
            "Работаем с таблицей\n",
            "ls: cannot access '/content/drive/MyDrive/Colab': No such file or directory\n",
            "ls: cannot access 'Notebooks/swot': No such file or directory\n",
            "['__class__', '__delattr__', '__dict__', '__dir__', '__doc__', '__eq__', '__format__', '__ge__', '__getattribute__', '__gt__', '__hash__', '__init__', '__init_subclass__', '__iter__', '__le__', '__lt__', '__module__', '__ne__', '__new__', '__reduce__', '__reduce_ex__', '__repr__', '__setattr__', '__sizeof__', '__str__', '__subclasshook__', '__weakref__', '_properties', '_spreadsheets_get', '_spreadsheets_sheets_copy_to', 'add_worksheet', 'batch_update', 'client', 'del_worksheet', 'duplicate_sheet', 'fetch_sheet_metadata', 'get_worksheet', 'id', 'list_permissions', 'remove_permissions', 'reorder_worksheets', 'share', 'sheet1', 'title', 'updated', 'url', 'values_append', 'values_batch_get', 'values_batch_update', 'values_clear', 'values_get', 'values_update', 'worksheet', 'worksheets']\n",
            "1 ['расширение сети кафе', 'открывать кафе во многих городах России', '9', '0.8', '7.2', '', '', '']\n",
            "2 ['система скидок для малоимущих/многодетных семей', 'обеспечить возможность посещения кафе для малоимущих/многодетных семей с помощью повышенных скидок', '7', '0.9', '6.3', '', 'Суммарная power:', '23.5']\n",
            "3 ['увеличение рекламы в СМИ и в сети Интернет', 'создание профиля кафе и ведение в Instagram, заключение контрактов с рекламными агентствами', '10', '0.7', '7', '', '', '']\n",
            "4 ['возможность доставки блюд', 'сотрудничество с крупными сервисами доставки еды (Delivery Club, Яндекс.Еда)', '6', '0.5', '3', '', '', '']\n",
            "[[7.2], [6.3], [7.0], [3.0]]\n",
            "Суммарная Power opportunities составляет: 23.5\n"
          ],
          "name": "stdout"
        },
        {
          "output_type": "display_data",
          "data": {
            "image/png": "[encoded data removed]",
            "text/plain": [
              "<Figure size 432x288 with 1 Axes>"
            ]
          },
          "metadata": {
            "tags": [],
            "needs_background": "light"
          }
        },
        {
          "output_type": "stream",
          "text": [
            "1 -  расширение сети кафе\n",
            "2 -  система скидок для малоимущих/многодетных семей\n",
            "3 -  увеличение рекламы в СМИ и в сети Интернет\n",
            "4 -  возможность доставки блюд\n",
            "Mon Mar 15 21:11:16 UTC 2021\n"
          ],
          "name": "stdout"
        }
      ]
    },
    {
      "cell_type": "code",
      "metadata": {
        "colab": {
          "base_uri": "https://localhost:8080/",
          "height": 861
        },
        "id": "5TLefG_VuPd3",
        "outputId": "b011e7d5-cd5a-4277-b59c-a74cb222e0a7"
      },
      "source": [
        "import os\n",
        "import time\n",
        "from google.colab import auth\n",
        "auth.authenticate_user()\n",
        "!pip install --upgrade gspread\n",
        "import gspread\n",
        "from oauth2client.client import GoogleCredentials\n",
        "print('\\nРаботаем с таблицей')\n",
        "%ll -lAF /content/drive/MyDrive/Colab Notebooks/swot \n",
        "gs = gspread.authorize(GoogleCredentials.get_application_default())\n",
        "os.stat('/content/drive/MyDrive/Colab Notebooks/swot /Новая таблица.gsheet')\n",
        "table = gs.open_by_key('1ieBI7Dpjb-go8TSF8lRlAKE93i28Lu-mJmnYodlP-PY')\n",
        "print(dir(table))\n",
        "worksheet = table.worksheet('list5')\n",
        "rows = worksheet.get_all_values()\n",
        "name = list()\n",
        "actions = list()\n",
        "importance = list()\n",
        "probability = list()\n",
        "power = list()\n",
        "power_sh = list()\n",
        "power_raw = list()\n",
        "i=0\n",
        "for row in rows:\n",
        "  if(i>0):\n",
        "    print (i, row)\n",
        "    name.append(row[0])\n",
        "    importance.append(int(row[2]))\n",
        "    probability.append(float(row[3]))\n",
        "    power.append(int(row[2])*float(row[3]))\n",
        "    power_raw = list()\n",
        "    power_raw.append(int(row[2])*float(row[3]))\n",
        "    power_sh.append(power_raw)\n",
        "  i+=1\n",
        "print(power_sh)\n",
        "worksheet.update('E2:E10', power_sh)\n",
        "result = sum(power)\n",
        "worksheet.update('G3','Суммарная power:')\n",
        "worksheet.update('H3',result)\n",
        "print('Суммарная Power threats составляет:', result)\n",
        "#Диаграмма strengths\n",
        "import matplotlib\n",
        "import matplotlib.pyplot as plt\n",
        "import numpy as np\n",
        "#лист line через цикл/для подсчёта кол-ва пуктов=>cтолбцов диаграммы\n",
        "i=0\n",
        "line= list()\n",
        "cols=worksheet.col_values(1)\n",
        "for col in cols:\n",
        "  if (i>0):\n",
        "    line.append(i)\n",
        "  i+=1\n",
        "\n",
        "powers = power\n",
        "x = np.arange(len(line))  # the label locations\n",
        "width = 0.6  # the width of the bars\n",
        "fig, ax = plt.subplots()\n",
        "rects1 = ax.bar(x - width/2, powers, width)\n",
        "a=worksheet.col_values(1)\n",
        "ax.set_ylabel('Мощность воздействия')\n",
        "ax.set_title('Threats')\n",
        "ax.set_xlabel('Обозначения')\n",
        "ax.set_xticks(x)\n",
        "ax.set_xticklabels(line)\n",
        "fig.tight_layout()\n",
        "plt.show()\n",
        "k=0\n",
        "#вывод пунктов из name в цикле(подпись диаграммы)\n",
        "for col in cols:\n",
        "  if(k>0):\n",
        "    print (k,'- ', col)\n",
        "  k+=1\n",
        "!date"
      ],
      "execution_count": null,
      "outputs": [
        {
          "output_type": "stream",
          "text": [
            "Requirement already up-to-date: gspread in /usr/local/lib/python3.7/dist-packages (3.7.0)\n",
            "Requirement already satisfied, skipping upgrade: google-auth>=1.12.0 in /usr/local/lib/python3.7/dist-packages (from gspread) (1.27.1)\n",
            "Requirement already satisfied, skipping upgrade: google-auth-oauthlib>=0.4.1 in /usr/local/lib/python3.7/dist-packages (from gspread) (0.4.3)\n",
            "Requirement already satisfied, skipping upgrade: pyasn1-modules>=0.2.1 in /usr/local/lib/python3.7/dist-packages (from google-auth>=1.12.0->gspread) (0.2.8)\n",
            "Requirement already satisfied, skipping upgrade: rsa<5,>=3.1.4; python_version >= \"3.6\" in /usr/local/lib/python3.7/dist-packages (from google-auth>=1.12.0->gspread) (4.7.2)\n",
            "Requirement already satisfied, skipping upgrade: cachetools<5.0,>=2.0.0 in /usr/local/lib/python3.7/dist-packages (from google-auth>=1.12.0->gspread) (4.2.1)\n",
            "Requirement already satisfied, skipping upgrade: setuptools>=40.3.0 in /usr/local/lib/python3.7/dist-packages (from google-auth>=1.12.0->gspread) (54.0.0)\n",
            "Requirement already satisfied, skipping upgrade: six>=1.9.0 in /usr/local/lib/python3.7/dist-packages (from google-auth>=1.12.0->gspread) (1.15.0)\n",
            "Requirement already satisfied, skipping upgrade: requests-oauthlib>=0.7.0 in /usr/local/lib/python3.7/dist-packages (from google-auth-oauthlib>=0.4.1->gspread) (1.3.0)\n",
            "Requirement already satisfied, skipping upgrade: pyasn1<0.5.0,>=0.4.6 in /usr/local/lib/python3.7/dist-packages (from pyasn1-modules>=0.2.1->google-auth>=1.12.0->gspread) (0.4.8)\n",
            "Requirement already satisfied, skipping upgrade: requests>=2.0.0 in /usr/local/lib/python3.7/dist-packages (from requests-oauthlib>=0.7.0->google-auth-oauthlib>=0.4.1->gspread) (2.23.0)\n",
            "Requirement already satisfied, skipping upgrade: oauthlib>=3.0.0 in /usr/local/lib/python3.7/dist-packages (from requests-oauthlib>=0.7.0->google-auth-oauthlib>=0.4.1->gspread) (3.1.0)\n",
            "Requirement already satisfied, skipping upgrade: idna<3,>=2.5 in /usr/local/lib/python3.7/dist-packages (from requests>=2.0.0->requests-oauthlib>=0.7.0->google-auth-oauthlib>=0.4.1->gspread) (2.10)\n",
            "Requirement already satisfied, skipping upgrade: certifi>=2017.4.17 in /usr/local/lib/python3.7/dist-packages (from requests>=2.0.0->requests-oauthlib>=0.7.0->google-auth-oauthlib>=0.4.1->gspread) (2020.12.5)\n",
            "Requirement already satisfied, skipping upgrade: urllib3!=1.25.0,!=1.25.1,<1.26,>=1.21.1 in /usr/local/lib/python3.7/dist-packages (from requests>=2.0.0->requests-oauthlib>=0.7.0->google-auth-oauthlib>=0.4.1->gspread) (1.24.3)\n",
            "Requirement already satisfied, skipping upgrade: chardet<4,>=3.0.2 in /usr/local/lib/python3.7/dist-packages (from requests>=2.0.0->requests-oauthlib>=0.7.0->google-auth-oauthlib>=0.4.1->gspread) (3.0.4)\n",
            "\n",
            "Работаем с таблицей\n",
            "ls: cannot access '/content/drive/MyDrive/Colab': No such file or directory\n",
            "ls: cannot access 'Notebooks/swot': No such file or directory\n",
            "['__class__', '__delattr__', '__dict__', '__dir__', '__doc__', '__eq__', '__format__', '__ge__', '__getattribute__', '__gt__', '__hash__', '__init__', '__init_subclass__', '__iter__', '__le__', '__lt__', '__module__', '__ne__', '__new__', '__reduce__', '__reduce_ex__', '__repr__', '__setattr__', '__sizeof__', '__str__', '__subclasshook__', '__weakref__', '_properties', '_spreadsheets_get', '_spreadsheets_sheets_copy_to', 'add_worksheet', 'batch_update', 'client', 'del_worksheet', 'duplicate_sheet', 'fetch_sheet_metadata', 'get_worksheet', 'id', 'list_permissions', 'remove_permissions', 'reorder_worksheets', 'share', 'sheet1', 'title', 'updated', 'url', 'values_append', 'values_batch_get', 'values_batch_update', 'values_clear', 'values_get', 'values_update', 'worksheet', 'worksheets']\n",
            "1 ['нестабильная эпидемиологическая ситуация в стране (коронавирус)', 'адаптация к условиям коронавируса и выполнение всех требований по обеспечению безопасности посещения', '10', '0.1', '1', '', '', '']\n",
            "2 ['высокая конкуренция', 'занимать лидирующие позиции по всем критериям среди конкурентов', '8', '0.7', '5.6', '', 'Суммарная power:', '12.2']\n",
            "3 ['форс-мажор (пожар и тд)', 'соблюдение пожарной безопасности, своевременная проерка обоудования', '10', '0.2', '2', '', '', '']\n",
            "4 ['снижение квалификации сотрудников', 'обучение и повышение квалификации сотрудников', '6', '0.6', '3.6', '', '', '']\n",
            "[[1.0], [5.6], [2.0], [3.5999999999999996]]\n",
            "Суммарная Power threats составляет: 12.2\n"
          ],
          "name": "stdout"
        },
        {
          "output_type": "display_data",
          "data": {
            "image/png": "[encoded data removed]",
            "text/plain": [
              "<Figure size 432x288 with 1 Axes>"
            ]
          },
          "metadata": {
            "tags": [],
            "needs_background": "light"
          }
        },
        {
          "output_type": "stream",
          "text": [
            "1 -  нестабильная эпидемиологическая ситуация в стране (коронавирус)\n",
            "2 -  высокая конкуренция\n",
            "3 -  форс-мажор (пожар и тд)\n",
            "4 -  снижение квалификации сотрудников\n",
            "Mon Mar 15 21:10:46 UTC 2021\n"
          ],
          "name": "stdout"
        }
      ]
    }
  ]
}